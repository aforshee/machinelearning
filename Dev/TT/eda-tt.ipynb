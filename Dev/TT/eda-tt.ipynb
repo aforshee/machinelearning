{
 "cells": [
  {
   "cell_type": "code",
   "execution_count": 1,
   "metadata": {},
   "outputs": [],
   "source": [
    "import os\n",
    "import numpy as np\n",
    "import pandas as pd"
   ]
  },
  {
   "cell_type": "code",
   "execution_count": 2,
   "metadata": {},
   "outputs": [],
   "source": [
    "os.chdir('data')"
   ]
  },
  {
   "cell_type": "code",
   "execution_count": 3,
   "metadata": {
    "scrolled": true
   },
   "outputs": [
    {
     "data": {
      "text/plain": [
       "['Median Incomes.csv',\n",
       " 'Median Monthly Rent.csv',\n",
       " 'Home Ownership.csv',\n",
       " 'Total Population.csv',\n",
       " 'Uninsured.csv',\n",
       " 'Unemployment Rate.csv',\n",
       " 'Severe Rent Burden.csv',\n",
       " 'Educational Attainment.csv',\n",
       " 'Overcrowded Rental Housing.csv',\n",
       " 'SNAP (Food Stamps).csv',\n",
       " 'Household Income.csv',\n",
       " 'Public Assistance.csv',\n",
       " 'Employment Population Ratio.csv',\n",
       " 'Total Population by Race_Ethnicity.csv']"
      ]
     },
     "execution_count": 3,
     "metadata": {},
     "output_type": "execute_result"
    }
   ],
   "source": [
    "[file for file in os.listdir() if(file.endswith('.csv'))]"
   ]
  },
  {
   "cell_type": "code",
   "execution_count": 4,
   "metadata": {},
   "outputs": [],
   "source": [
    "dfs = {}\n",
    "for file in os.listdir():\n",
    "    if (file.endswith('.csv')):\n",
    "        key = file[:-4].replace(' ', '_').lower()\n",
    "        #print(key)\n",
    "        dfs[key] = pd.read_csv(file, skiprows=4, encoding='utf8', low_memory=False)\n",
    "        #print(f\"{key} - {sorted(set(dfs[key]['TimeFrame'].tolist()))}\")"
   ]
  },
  {
   "cell_type": "code",
   "execution_count": 5,
   "metadata": {},
   "outputs": [
    {
     "data": {
      "text/plain": [
       "dict_keys(['median_incomes', 'median_monthly_rent', 'home_ownership', 'total_population', 'uninsured', 'unemployment_rate', 'severe_rent_burden', 'educational_attainment', 'overcrowded_rental_housing', 'snap_(food_stamps)', 'household_income', 'public_assistance', 'employment_population_ratio', 'total_population_by_race_ethnicity'])"
      ]
     },
     "execution_count": 5,
     "metadata": {},
     "output_type": "execute_result"
    }
   ],
   "source": [
    "dfs.keys()"
   ]
  },
  {
   "cell_type": "code",
   "execution_count": 6,
   "metadata": {},
   "outputs": [
    {
     "name": "stdout",
     "output_type": "stream",
     "text": [
      "median_incomes - ['Location', 'Household Type', 'TimeFrame', 'DataFormat', 'Data', 'Fips']\n",
      "median_monthly_rent - ['Location', 'TimeFrame', 'DataFormat', 'Data', 'Fips']\n",
      "home_ownership - ['Location', 'TimeFrame', 'DataFormat', 'Data', 'Fips']\n",
      "total_population - ['Location', 'TimeFrame', 'DataFormat', 'Data', 'Fips']\n",
      "uninsured - ['Location', 'Age Group', 'TimeFrame', 'DataFormat', 'Data', 'Fips']\n",
      "unemployment_rate - ['Location', 'TimeFrame', 'DataFormat', 'Data', 'Fips']\n",
      "severe_rent_burden - ['Location', 'TimeFrame', 'DataFormat', 'Data', 'Fips']\n",
      "educational_attainment - ['Location', 'Education Level', 'TimeFrame', 'DataFormat', 'Data', 'Fips']\n",
      "overcrowded_rental_housing - ['Location', 'TimeFrame', 'DataFormat', 'Data', 'Fips']\n",
      "snap_(food_stamps) - ['Location', 'Recipient', 'TimeFrame', 'DataFormat', 'Data', 'Fips']\n",
      "household_income - ['Location', 'Income Level', 'TimeFrame', 'DataFormat', 'Data', 'Fips']\n",
      "public_assistance - ['Location', 'TimeFrame', 'DataFormat', 'Data', 'Fips']\n",
      "employment_population_ratio - ['Location', 'TimeFrame', 'DataFormat', 'Data', 'Fips']\n",
      "total_population_by_race_ethnicity - ['Location', 'Race/Ethnicity', 'TimeFrame', 'DataFormat', 'Data', 'Fips']\n"
     ]
    }
   ],
   "source": [
    "for key in dfs.keys():\n",
    "    print(f'{key} - {dfs[key].columns.tolist()}')"
   ]
  },
  {
   "cell_type": "code",
   "execution_count": 7,
   "metadata": {},
   "outputs": [
    {
     "name": "stdout",
     "output_type": "stream",
     "text": [
      "total_population\n",
      "uninsured\n",
      "educational_attainment\n",
      "snap_(food_stamps)\n",
      "household_income\n",
      "public_assistance\n",
      "total_population_by_race_ethnicity\n"
     ]
    }
   ],
   "source": [
    "for key in dfs.keys():\n",
    "    if('Number' in list(set(dfs[key]['DataFormat'].tolist())) ):\n",
    "        print(key)\n",
    "        "
   ]
  },
  {
   "cell_type": "code",
   "execution_count": 8,
   "metadata": {},
   "outputs": [
    {
     "name": "stdout",
     "output_type": "stream",
     "text": [
      "median_monthly_rent - ['Location', 'TimeFrame', 'DataFormat', 'Data', 'Fips']\n",
      "home_ownership - ['Location', 'TimeFrame', 'DataFormat', 'Data', 'Fips']\n",
      "total_population - ['Location', 'TimeFrame', 'DataFormat', 'Data', 'Fips']\n",
      "unemployment_rate - ['Location', 'TimeFrame', 'DataFormat', 'Data', 'Fips']\n",
      "severe_rent_burden - ['Location', 'TimeFrame', 'DataFormat', 'Data', 'Fips']\n",
      "overcrowded_rental_housing - ['Location', 'TimeFrame', 'DataFormat', 'Data', 'Fips']\n",
      "employment_population_ratio - ['Location', 'TimeFrame', 'DataFormat', 'Data', 'Fips']\n"
     ]
    },
    {
     "name": "stderr",
     "output_type": "stream",
     "text": [
      "/Users/tavares/opt/anaconda3/envs/PythonML/lib/python3.6/site-packages/pandas/core/generic.py:5303: SettingWithCopyWarning: \n",
      "A value is trying to be set on a copy of a slice from a DataFrame.\n",
      "Try using .loc[row_indexer,col_indexer] = value instead\n",
      "\n",
      "See the caveats in the documentation: https://pandas.pydata.org/pandas-docs/stable/user_guide/indexing.html#returning-a-view-versus-a-copy\n",
      "  self[name] = value\n"
     ]
    }
   ],
   "source": [
    "standard = {}\n",
    "extra = {}\n",
    "for key in dfs.keys():\n",
    "    if(dfs[key].columns[1] == 'TimeFrame' and key != 'public_assistance'):\n",
    "        print(f'{key} - {dfs[key].columns.tolist()}')\n",
    "        standard[key] = dfs[key]\n",
    "        if(key == 'total_population'):\n",
    "            standard[key] = dfs[key][~dfs[key].Fips.str.contains('uhf')]\n",
    "            standard[key].Fips = standard[key].Fips.astype(int)\n",
    "        if(key == 'median_monthly_rent'):\n",
    "            standard[key]['DataFormat'] = 'Number'\n",
    "    else:\n",
    "        extra[key] = dfs[key]\n",
    "    #print(dfs[key].head(2))"
   ]
  },
  {
   "cell_type": "code",
   "execution_count": 9,
   "metadata": {
    "scrolled": true
   },
   "outputs": [
    {
     "name": "stdout",
     "output_type": "stream",
     "text": [
      "standard:  ['median_monthly_rent', 'home_ownership', 'total_population', 'unemployment_rate', 'severe_rent_burden', 'overcrowded_rental_housing', 'employment_population_ratio']\n",
      "\n",
      "extra:  ['median_incomes', 'uninsured', 'educational_attainment', 'snap_(food_stamps)', 'household_income', 'public_assistance', 'total_population_by_race_ethnicity']\n"
     ]
    }
   ],
   "source": [
    "print('standard: ', list(standard.keys()))\n",
    "print('')\n",
    "print('extra: ', list(extra.keys()))"
   ]
  },
  {
   "cell_type": "code",
   "execution_count": 10,
   "metadata": {},
   "outputs": [],
   "source": [
    "df = standard['median_monthly_rent'][['TimeFrame','Fips','Location']]"
   ]
  },
  {
   "cell_type": "code",
   "execution_count": 11,
   "metadata": {},
   "outputs": [],
   "source": [
    "df = df.merge(standard['total_population'][['TimeFrame','Fips','Data']].rename(columns={'Data':'Population'}),on=['TimeFrame','Fips'],how='inner', left_index=False, right_index=False)"
   ]
  },
  {
   "cell_type": "code",
   "execution_count": 12,
   "metadata": {},
   "outputs": [],
   "source": [
    "df = df.merge(standard['median_monthly_rent'][['TimeFrame','Fips','Data']].rename(columns={'Data':'Rent'}),on=['TimeFrame','Fips'],how='inner', left_index=False, right_index=False)"
   ]
  },
  {
   "cell_type": "code",
   "execution_count": 13,
   "metadata": {},
   "outputs": [],
   "source": [
    "df = df.merge(standard['severe_rent_burden'][['TimeFrame','Fips','Data']].rename(columns={'Data':'Rent_Burden'}),on=['TimeFrame','Fips'],how='inner', left_index=False, right_index=False)\n",
    "df = df.merge(standard['overcrowded_rental_housing'][['TimeFrame','Fips','Data']].rename(columns={'Data':'Overcrowded'}),on=['TimeFrame','Fips'],how='inner', left_index=False, right_index=False)"
   ]
  },
  {
   "cell_type": "code",
   "execution_count": 14,
   "metadata": {},
   "outputs": [],
   "source": [
    "df = df.merge(standard['home_ownership'][['TimeFrame','Fips','Data']].rename(columns={'Data':'Owner'}),on=['TimeFrame','Fips'],how='inner', left_index=False, right_index=False)"
   ]
  },
  {
   "cell_type": "code",
   "execution_count": 15,
   "metadata": {},
   "outputs": [],
   "source": [
    "df = df.merge(standard['employment_population_ratio'][['TimeFrame','Fips','Data']].rename(columns={'Data':'Employment_Ratio'}),on=['TimeFrame','Fips'],how='inner', left_index=False, right_index=False)\n",
    "df = df.merge(standard['unemployment_rate'][['TimeFrame','Fips','Data']].rename(columns={'Data':'Unemployment'}),on=['TimeFrame','Fips'],how='inner', left_index=False, right_index=False)"
   ]
  },
  {
   "cell_type": "code",
   "execution_count": 16,
   "metadata": {},
   "outputs": [
    {
     "name": "stdout",
     "output_type": "stream",
     "text": [
      "(905, 10)\n"
     ]
    },
    {
     "data": {
      "text/html": [
       "<div>\n",
       "<style scoped>\n",
       "    .dataframe tbody tr th:only-of-type {\n",
       "        vertical-align: middle;\n",
       "    }\n",
       "\n",
       "    .dataframe tbody tr th {\n",
       "        vertical-align: top;\n",
       "    }\n",
       "\n",
       "    .dataframe thead th {\n",
       "        text-align: right;\n",
       "    }\n",
       "</style>\n",
       "<table border=\"1\" class=\"dataframe\">\n",
       "  <thead>\n",
       "    <tr style=\"text-align: right;\">\n",
       "      <th></th>\n",
       "      <th>TimeFrame</th>\n",
       "      <th>Fips</th>\n",
       "      <th>Location</th>\n",
       "      <th>Population</th>\n",
       "      <th>Rent</th>\n",
       "      <th>Rent_Burden</th>\n",
       "      <th>Overcrowded</th>\n",
       "      <th>Owner</th>\n",
       "      <th>Employment_Ratio</th>\n",
       "      <th>Unemployment</th>\n",
       "    </tr>\n",
       "  </thead>\n",
       "  <tbody>\n",
       "    <tr>\n",
       "      <th>0</th>\n",
       "      <td>2005</td>\n",
       "      <td>101</td>\n",
       "      <td>Battery Park/Tribeca</td>\n",
       "      <td>51150.45963</td>\n",
       "      <td>2191.21645</td>\n",
       "      <td>0.17644</td>\n",
       "      <td>0.03794</td>\n",
       "      <td>0.26053</td>\n",
       "      <td>0.751</td>\n",
       "      <td>0.033</td>\n",
       "    </tr>\n",
       "    <tr>\n",
       "      <th>1</th>\n",
       "      <td>2005</td>\n",
       "      <td>102</td>\n",
       "      <td>Greenwich Village</td>\n",
       "      <td>75508.54037</td>\n",
       "      <td>2191.21645</td>\n",
       "      <td>0.17644</td>\n",
       "      <td>0.03794</td>\n",
       "      <td>0.26053</td>\n",
       "      <td>0.751</td>\n",
       "      <td>0.033</td>\n",
       "    </tr>\n",
       "    <tr>\n",
       "      <th>2</th>\n",
       "      <td>2005</td>\n",
       "      <td>103</td>\n",
       "      <td>Lower East Side</td>\n",
       "      <td>145556.00000</td>\n",
       "      <td>817.19484</td>\n",
       "      <td>0.23809</td>\n",
       "      <td>0.08153</td>\n",
       "      <td>0.13708</td>\n",
       "      <td>0.564</td>\n",
       "      <td>0.088</td>\n",
       "    </tr>\n",
       "    <tr>\n",
       "      <th>3</th>\n",
       "      <td>2005</td>\n",
       "      <td>104</td>\n",
       "      <td>Chelsea/Clinton</td>\n",
       "      <td>88754.39184</td>\n",
       "      <td>1781.33008</td>\n",
       "      <td>0.19318</td>\n",
       "      <td>0.04339</td>\n",
       "      <td>0.20554</td>\n",
       "      <td>0.677</td>\n",
       "      <td>0.066</td>\n",
       "    </tr>\n",
       "    <tr>\n",
       "      <th>4</th>\n",
       "      <td>2005</td>\n",
       "      <td>105</td>\n",
       "      <td>Midtown Business District</td>\n",
       "      <td>44420.60816</td>\n",
       "      <td>1781.33008</td>\n",
       "      <td>0.19318</td>\n",
       "      <td>0.04339</td>\n",
       "      <td>0.20554</td>\n",
       "      <td>0.677</td>\n",
       "      <td>0.066</td>\n",
       "    </tr>\n",
       "  </tbody>\n",
       "</table>\n",
       "</div>"
      ],
      "text/plain": [
       "   TimeFrame  Fips                   Location    Population        Rent  \\\n",
       "0       2005   101       Battery Park/Tribeca   51150.45963  2191.21645   \n",
       "1       2005   102          Greenwich Village   75508.54037  2191.21645   \n",
       "2       2005   103            Lower East Side  145556.00000   817.19484   \n",
       "3       2005   104            Chelsea/Clinton   88754.39184  1781.33008   \n",
       "4       2005   105  Midtown Business District   44420.60816  1781.33008   \n",
       "\n",
       "   Rent_Burden  Overcrowded    Owner  Employment_Ratio  Unemployment  \n",
       "0      0.17644      0.03794  0.26053             0.751         0.033  \n",
       "1      0.17644      0.03794  0.26053             0.751         0.033  \n",
       "2      0.23809      0.08153  0.13708             0.564         0.088  \n",
       "3      0.19318      0.04339  0.20554             0.677         0.066  \n",
       "4      0.19318      0.04339  0.20554             0.677         0.066  "
      ]
     },
     "execution_count": 16,
     "metadata": {},
     "output_type": "execute_result"
    }
   ],
   "source": [
    "print(df.shape)\n",
    "df.head()"
   ]
  },
  {
   "cell_type": "code",
   "execution_count": 17,
   "metadata": {
    "scrolled": true
   },
   "outputs": [
    {
     "name": "stdout",
     "output_type": "stream",
     "text": [
      "median_incomes - ['Location', 'Household Type', 'TimeFrame', 'DataFormat', 'Data', 'Fips']\n",
      "uninsured - ['Location', 'Age Group', 'TimeFrame', 'DataFormat', 'Data', 'Fips']\n",
      "educational_attainment - ['Location', 'Education Level', 'TimeFrame', 'DataFormat', 'Data', 'Fips']\n",
      "snap_(food_stamps) - ['Location', 'Recipient', 'TimeFrame', 'DataFormat', 'Data', 'Fips']\n",
      "household_income - ['Location', 'Income Level', 'TimeFrame', 'DataFormat', 'Data', 'Fips']\n",
      "public_assistance - ['Location', 'TimeFrame', 'DataFormat', 'Data', 'Fips']\n",
      "total_population_by_race_ethnicity - ['Location', 'Race/Ethnicity', 'TimeFrame', 'DataFormat', 'Data', 'Fips']\n"
     ]
    }
   ],
   "source": [
    "for key in extra:\n",
    "    print(f'{key} - {extra[key].columns.tolist()}')"
   ]
  },
  {
   "cell_type": "code",
   "execution_count": 18,
   "metadata": {},
   "outputs": [
    {
     "name": "stdout",
     "output_type": "stream",
     "text": [
      "(910, 3)\n"
     ]
    }
   ],
   "source": [
    "median_incomes = extra['median_incomes'][extra['median_incomes']['Household Type']=='All Households']\n",
    "median_incomes = median_incomes[['TimeFrame','Fips','DataFormat','Data']].set_index(['TimeFrame','Fips','DataFormat']).unstack()\n",
    "median_incomes.columns = ['Median_Income']\n",
    "#median_incomes['Type'] = 'median_income'\n",
    "median_incomes = median_incomes.reset_index()\n",
    "print(median_incomes.shape)\n",
    "median_incomes.head()\n",
    "df = df.merge(median_incomes,on=['TimeFrame','Fips'],how='inner', left_index=False, right_index=False)"
   ]
  },
  {
   "cell_type": "code",
   "execution_count": 19,
   "metadata": {},
   "outputs": [
    {
     "name": "stdout",
     "output_type": "stream",
     "text": [
      "(715, 4)\n"
     ]
    }
   ],
   "source": [
    "uninsured = extra['uninsured'][extra['uninsured']['Age Group']=='All Ages']\n",
    "uninsured = uninsured[['TimeFrame','Fips','DataFormat','Data']].set_index(['TimeFrame','Fips','DataFormat']).unstack()\n",
    "uninsured.columns = ['Uninsured_No','Uninsured_Pct']\n",
    "#uninsured['Type'] = 'uninsured'\n",
    "uninsured = uninsured.reset_index()\n",
    "print(uninsured.shape)\n",
    "uninsured.head()\n",
    "df = df.merge(uninsured,on=['TimeFrame','Fips'],how='inner', left_index=False, right_index=False)"
   ]
  },
  {
   "cell_type": "code",
   "execution_count": 20,
   "metadata": {},
   "outputs": [
    {
     "name": "stdout",
     "output_type": "stream",
     "text": [
      "(4225, 5)\n"
     ]
    }
   ],
   "source": [
    "education = extra['educational_attainment']\n",
    "education = education[['TimeFrame','Fips','Education Level','DataFormat','Data']].set_index(['TimeFrame','Fips','Education Level','DataFormat']).unstack()\n",
    "education.columns = ['Education_No','Education_Pct']\n",
    "#education['Type'] = 'education'\n",
    "education = education.reset_index().rename(columns={'Education Level': 'Education_Level'})\n",
    "print(education.shape)\n",
    "education.head()\n",
    "df = df.merge(education,on=['TimeFrame','Fips'],how='inner', left_index=False, right_index=False)"
   ]
  },
  {
   "cell_type": "code",
   "execution_count": 21,
   "metadata": {},
   "outputs": [
    {
     "name": "stdout",
     "output_type": "stream",
     "text": [
      "(715, 5)\n"
     ]
    }
   ],
   "source": [
    "snap = extra['snap_(food_stamps)'][extra['snap_(food_stamps)']['Recipient']=='Households']\n",
    "snap = snap[['TimeFrame','Fips','DataFormat','Data']].set_index(['TimeFrame','Fips','DataFormat']).unstack()\n",
    "snap.columns = ['Snap_No','Snap_Pct']\n",
    "snap['Type'] = 'snap'\n",
    "snap = snap.reset_index()\n",
    "print(snap.shape)\n",
    "snap.head()\n",
    "df = df.merge(snap,on=['TimeFrame','Fips'],how='inner', left_index=False, right_index=False)"
   ]
  },
  {
   "cell_type": "code",
   "execution_count": 22,
   "metadata": {
    "scrolled": true
   },
   "outputs": [
    {
     "name": "stdout",
     "output_type": "stream",
     "text": [
      "(7280, 5)\n"
     ]
    }
   ],
   "source": [
    "households = extra['household_income']\n",
    "households = households[['TimeFrame','Fips','Income Level','DataFormat','Data']].set_index(['TimeFrame','Fips','Income Level','DataFormat']).unstack()\n",
    "households.columns = ['Income_No','Income_Pct']\n",
    "#households['Type'] = 'household_income'\n",
    "households = households.reset_index().rename(columns={'Income Level': 'Income_Level'})\n",
    "print(households.shape)\n",
    "households.head()\n",
    "df = df.merge(households,on=['TimeFrame','Fips'],how='inner', left_index=False, right_index=False)"
   ]
  },
  {
   "cell_type": "code",
   "execution_count": 23,
   "metadata": {},
   "outputs": [
    {
     "name": "stdout",
     "output_type": "stream",
     "text": [
      "(455, 4)\n"
     ]
    }
   ],
   "source": [
    "public_assistance = extra['public_assistance']\n",
    "public_assistance = public_assistance[['TimeFrame','Fips','DataFormat','Data']].set_index(['TimeFrame','Fips','DataFormat']).unstack()\n",
    "public_assistance.columns = ['PA_No','PA_Pct']\n",
    "#public_assistance['Type'] = 'public_assistance'\n",
    "public_assistance = public_assistance.reset_index()\n",
    "print(public_assistance.shape)\n",
    "public_assistance.head()\n",
    "df = df.merge(public_assistance,on=['TimeFrame','Fips'],how='inner', left_index=False, right_index=False)"
   ]
  },
  {
   "cell_type": "code",
   "execution_count": 24,
   "metadata": {
    "scrolled": true
   },
   "outputs": [
    {
     "name": "stdout",
     "output_type": "stream",
     "text": [
      "(3250, 5)\n"
     ]
    }
   ],
   "source": [
    "pop_by_race = extra['total_population_by_race_ethnicity']\n",
    "pop_by_race = pop_by_race[['TimeFrame','Fips','Race/Ethnicity','DataFormat','Data']].set_index(['TimeFrame','Fips','Race/Ethnicity','DataFormat']).unstack()\n",
    "pop_by_race.columns = ['Race_No','Race_Pct']\n",
    "#pop_by_race['Type'] = 'population_by_race'\n",
    "pop_by_race = pop_by_race.reset_index().rename(columns={'Race/Ethnicity': 'Race'})\n",
    "print(pop_by_race.shape)\n",
    "pop_by_race.head()\n",
    "df = df.merge(pop_by_race,on=['TimeFrame','Fips'],how='inner', left_index=False, right_index=False)"
   ]
  },
  {
   "cell_type": "code",
   "execution_count": 25,
   "metadata": {},
   "outputs": [
    {
     "data": {
      "text/plain": [
       "[2009, 2010, 2011, 2012, 2013, 2014, 2015, 2016, 2017, 2018]"
      ]
     },
     "execution_count": 25,
     "metadata": {},
     "output_type": "execute_result"
    }
   ],
   "source": [
    "sorted(pop_by_race['TimeFrame'].value_counts().index)"
   ]
  },
  {
   "cell_type": "code",
   "execution_count": 26,
   "metadata": {},
   "outputs": [
    {
     "name": "stdout",
     "output_type": "stream",
     "text": [
      "(51800, 27)\n",
      "['TimeFrame', 'Fips', 'Location', 'Population', 'Rent', 'Rent_Burden', 'Overcrowded', 'Owner', 'Employment_Ratio', 'Unemployment', 'Median_Income', 'Uninsured_No', 'Uninsured_Pct', 'Education_Level', 'Education_No', 'Education_Pct', 'Snap_No', 'Snap_Pct', 'Type', 'Income_Level', 'Income_No', 'Income_Pct', 'PA_No', 'PA_Pct', 'Race', 'Race_No', 'Race_Pct']\n"
     ]
    },
    {
     "data": {
      "text/html": [
       "<div>\n",
       "<style scoped>\n",
       "    .dataframe tbody tr th:only-of-type {\n",
       "        vertical-align: middle;\n",
       "    }\n",
       "\n",
       "    .dataframe tbody tr th {\n",
       "        vertical-align: top;\n",
       "    }\n",
       "\n",
       "    .dataframe thead th {\n",
       "        text-align: right;\n",
       "    }\n",
       "</style>\n",
       "<table border=\"1\" class=\"dataframe\">\n",
       "  <thead>\n",
       "    <tr style=\"text-align: right;\">\n",
       "      <th></th>\n",
       "      <th>TimeFrame</th>\n",
       "      <th>Fips</th>\n",
       "      <th>Location</th>\n",
       "      <th>Population</th>\n",
       "      <th>Rent</th>\n",
       "      <th>Rent_Burden</th>\n",
       "      <th>Overcrowded</th>\n",
       "      <th>Owner</th>\n",
       "      <th>Employment_Ratio</th>\n",
       "      <th>Unemployment</th>\n",
       "      <th>...</th>\n",
       "      <th>Snap_Pct</th>\n",
       "      <th>Type</th>\n",
       "      <th>Income_Level</th>\n",
       "      <th>Income_No</th>\n",
       "      <th>Income_Pct</th>\n",
       "      <th>PA_No</th>\n",
       "      <th>PA_Pct</th>\n",
       "      <th>Race</th>\n",
       "      <th>Race_No</th>\n",
       "      <th>Race_Pct</th>\n",
       "    </tr>\n",
       "  </thead>\n",
       "  <tbody>\n",
       "    <tr>\n",
       "      <th>0</th>\n",
       "      <td>2009</td>\n",
       "      <td>101</td>\n",
       "      <td>Battery Park/Tribeca</td>\n",
       "      <td>56591.85182</td>\n",
       "      <td>2305.38388</td>\n",
       "      <td>0.21577</td>\n",
       "      <td>0.02959</td>\n",
       "      <td>0.28839</td>\n",
       "      <td>0.707</td>\n",
       "      <td>0.07583</td>\n",
       "      <td>...</td>\n",
       "      <td>0.05719</td>\n",
       "      <td>snap</td>\n",
       "      <td>$100,000 to $199,999</td>\n",
       "      <td>7638.30279</td>\n",
       "      <td>0.25258</td>\n",
       "      <td>474.0</td>\n",
       "      <td>0.00838</td>\n",
       "      <td>Asian</td>\n",
       "      <td>8525.95160</td>\n",
       "      <td>0.14727</td>\n",
       "    </tr>\n",
       "    <tr>\n",
       "      <th>1</th>\n",
       "      <td>2009</td>\n",
       "      <td>101</td>\n",
       "      <td>Battery Park/Tribeca</td>\n",
       "      <td>56591.85182</td>\n",
       "      <td>2305.38388</td>\n",
       "      <td>0.21577</td>\n",
       "      <td>0.02959</td>\n",
       "      <td>0.28839</td>\n",
       "      <td>0.707</td>\n",
       "      <td>0.07583</td>\n",
       "      <td>...</td>\n",
       "      <td>0.05719</td>\n",
       "      <td>snap</td>\n",
       "      <td>$100,000 to $199,999</td>\n",
       "      <td>7638.30279</td>\n",
       "      <td>0.25258</td>\n",
       "      <td>474.0</td>\n",
       "      <td>0.00838</td>\n",
       "      <td>Black</td>\n",
       "      <td>1287.05039</td>\n",
       "      <td>0.02223</td>\n",
       "    </tr>\n",
       "    <tr>\n",
       "      <th>2</th>\n",
       "      <td>2009</td>\n",
       "      <td>101</td>\n",
       "      <td>Battery Park/Tribeca</td>\n",
       "      <td>56591.85182</td>\n",
       "      <td>2305.38388</td>\n",
       "      <td>0.21577</td>\n",
       "      <td>0.02959</td>\n",
       "      <td>0.28839</td>\n",
       "      <td>0.707</td>\n",
       "      <td>0.07583</td>\n",
       "      <td>...</td>\n",
       "      <td>0.05719</td>\n",
       "      <td>snap</td>\n",
       "      <td>$100,000 to $199,999</td>\n",
       "      <td>7638.30279</td>\n",
       "      <td>0.25258</td>\n",
       "      <td>474.0</td>\n",
       "      <td>0.00838</td>\n",
       "      <td>Latino</td>\n",
       "      <td>3291.73131</td>\n",
       "      <td>0.05686</td>\n",
       "    </tr>\n",
       "    <tr>\n",
       "      <th>3</th>\n",
       "      <td>2009</td>\n",
       "      <td>101</td>\n",
       "      <td>Battery Park/Tribeca</td>\n",
       "      <td>56591.85182</td>\n",
       "      <td>2305.38388</td>\n",
       "      <td>0.21577</td>\n",
       "      <td>0.02959</td>\n",
       "      <td>0.28839</td>\n",
       "      <td>0.707</td>\n",
       "      <td>0.07583</td>\n",
       "      <td>...</td>\n",
       "      <td>0.05719</td>\n",
       "      <td>snap</td>\n",
       "      <td>$100,000 to $199,999</td>\n",
       "      <td>7638.30279</td>\n",
       "      <td>0.25258</td>\n",
       "      <td>474.0</td>\n",
       "      <td>0.00838</td>\n",
       "      <td>Other</td>\n",
       "      <td>1439.29952</td>\n",
       "      <td>0.02486</td>\n",
       "    </tr>\n",
       "    <tr>\n",
       "      <th>4</th>\n",
       "      <td>2009</td>\n",
       "      <td>101</td>\n",
       "      <td>Battery Park/Tribeca</td>\n",
       "      <td>56591.85182</td>\n",
       "      <td>2305.38388</td>\n",
       "      <td>0.21577</td>\n",
       "      <td>0.02959</td>\n",
       "      <td>0.28839</td>\n",
       "      <td>0.707</td>\n",
       "      <td>0.07583</td>\n",
       "      <td>...</td>\n",
       "      <td>0.05719</td>\n",
       "      <td>snap</td>\n",
       "      <td>$100,000 to $199,999</td>\n",
       "      <td>7638.30279</td>\n",
       "      <td>0.25258</td>\n",
       "      <td>474.0</td>\n",
       "      <td>0.00838</td>\n",
       "      <td>White</td>\n",
       "      <td>43348.60008</td>\n",
       "      <td>0.74878</td>\n",
       "    </tr>\n",
       "    <tr>\n",
       "      <th>5</th>\n",
       "      <td>2009</td>\n",
       "      <td>101</td>\n",
       "      <td>Battery Park/Tribeca</td>\n",
       "      <td>56591.85182</td>\n",
       "      <td>2305.38388</td>\n",
       "      <td>0.21577</td>\n",
       "      <td>0.02959</td>\n",
       "      <td>0.28839</td>\n",
       "      <td>0.707</td>\n",
       "      <td>0.07583</td>\n",
       "      <td>...</td>\n",
       "      <td>0.05719</td>\n",
       "      <td>snap</td>\n",
       "      <td>$15,000 to $24,999</td>\n",
       "      <td>1777.72068</td>\n",
       "      <td>0.05878</td>\n",
       "      <td>474.0</td>\n",
       "      <td>0.00838</td>\n",
       "      <td>Asian</td>\n",
       "      <td>8525.95160</td>\n",
       "      <td>0.14727</td>\n",
       "    </tr>\n",
       "    <tr>\n",
       "      <th>6</th>\n",
       "      <td>2009</td>\n",
       "      <td>101</td>\n",
       "      <td>Battery Park/Tribeca</td>\n",
       "      <td>56591.85182</td>\n",
       "      <td>2305.38388</td>\n",
       "      <td>0.21577</td>\n",
       "      <td>0.02959</td>\n",
       "      <td>0.28839</td>\n",
       "      <td>0.707</td>\n",
       "      <td>0.07583</td>\n",
       "      <td>...</td>\n",
       "      <td>0.05719</td>\n",
       "      <td>snap</td>\n",
       "      <td>$15,000 to $24,999</td>\n",
       "      <td>1777.72068</td>\n",
       "      <td>0.05878</td>\n",
       "      <td>474.0</td>\n",
       "      <td>0.00838</td>\n",
       "      <td>Black</td>\n",
       "      <td>1287.05039</td>\n",
       "      <td>0.02223</td>\n",
       "    </tr>\n",
       "    <tr>\n",
       "      <th>7</th>\n",
       "      <td>2009</td>\n",
       "      <td>101</td>\n",
       "      <td>Battery Park/Tribeca</td>\n",
       "      <td>56591.85182</td>\n",
       "      <td>2305.38388</td>\n",
       "      <td>0.21577</td>\n",
       "      <td>0.02959</td>\n",
       "      <td>0.28839</td>\n",
       "      <td>0.707</td>\n",
       "      <td>0.07583</td>\n",
       "      <td>...</td>\n",
       "      <td>0.05719</td>\n",
       "      <td>snap</td>\n",
       "      <td>$15,000 to $24,999</td>\n",
       "      <td>1777.72068</td>\n",
       "      <td>0.05878</td>\n",
       "      <td>474.0</td>\n",
       "      <td>0.00838</td>\n",
       "      <td>Latino</td>\n",
       "      <td>3291.73131</td>\n",
       "      <td>0.05686</td>\n",
       "    </tr>\n",
       "    <tr>\n",
       "      <th>8</th>\n",
       "      <td>2009</td>\n",
       "      <td>101</td>\n",
       "      <td>Battery Park/Tribeca</td>\n",
       "      <td>56591.85182</td>\n",
       "      <td>2305.38388</td>\n",
       "      <td>0.21577</td>\n",
       "      <td>0.02959</td>\n",
       "      <td>0.28839</td>\n",
       "      <td>0.707</td>\n",
       "      <td>0.07583</td>\n",
       "      <td>...</td>\n",
       "      <td>0.05719</td>\n",
       "      <td>snap</td>\n",
       "      <td>$15,000 to $24,999</td>\n",
       "      <td>1777.72068</td>\n",
       "      <td>0.05878</td>\n",
       "      <td>474.0</td>\n",
       "      <td>0.00838</td>\n",
       "      <td>Other</td>\n",
       "      <td>1439.29952</td>\n",
       "      <td>0.02486</td>\n",
       "    </tr>\n",
       "    <tr>\n",
       "      <th>9</th>\n",
       "      <td>2009</td>\n",
       "      <td>101</td>\n",
       "      <td>Battery Park/Tribeca</td>\n",
       "      <td>56591.85182</td>\n",
       "      <td>2305.38388</td>\n",
       "      <td>0.21577</td>\n",
       "      <td>0.02959</td>\n",
       "      <td>0.28839</td>\n",
       "      <td>0.707</td>\n",
       "      <td>0.07583</td>\n",
       "      <td>...</td>\n",
       "      <td>0.05719</td>\n",
       "      <td>snap</td>\n",
       "      <td>$15,000 to $24,999</td>\n",
       "      <td>1777.72068</td>\n",
       "      <td>0.05878</td>\n",
       "      <td>474.0</td>\n",
       "      <td>0.00838</td>\n",
       "      <td>White</td>\n",
       "      <td>43348.60008</td>\n",
       "      <td>0.74878</td>\n",
       "    </tr>\n",
       "  </tbody>\n",
       "</table>\n",
       "<p>10 rows × 27 columns</p>\n",
       "</div>"
      ],
      "text/plain": [
       "   TimeFrame  Fips              Location   Population        Rent  \\\n",
       "0       2009   101  Battery Park/Tribeca  56591.85182  2305.38388   \n",
       "1       2009   101  Battery Park/Tribeca  56591.85182  2305.38388   \n",
       "2       2009   101  Battery Park/Tribeca  56591.85182  2305.38388   \n",
       "3       2009   101  Battery Park/Tribeca  56591.85182  2305.38388   \n",
       "4       2009   101  Battery Park/Tribeca  56591.85182  2305.38388   \n",
       "5       2009   101  Battery Park/Tribeca  56591.85182  2305.38388   \n",
       "6       2009   101  Battery Park/Tribeca  56591.85182  2305.38388   \n",
       "7       2009   101  Battery Park/Tribeca  56591.85182  2305.38388   \n",
       "8       2009   101  Battery Park/Tribeca  56591.85182  2305.38388   \n",
       "9       2009   101  Battery Park/Tribeca  56591.85182  2305.38388   \n",
       "\n",
       "   Rent_Burden  Overcrowded    Owner  Employment_Ratio  Unemployment  ...  \\\n",
       "0      0.21577      0.02959  0.28839             0.707       0.07583  ...   \n",
       "1      0.21577      0.02959  0.28839             0.707       0.07583  ...   \n",
       "2      0.21577      0.02959  0.28839             0.707       0.07583  ...   \n",
       "3      0.21577      0.02959  0.28839             0.707       0.07583  ...   \n",
       "4      0.21577      0.02959  0.28839             0.707       0.07583  ...   \n",
       "5      0.21577      0.02959  0.28839             0.707       0.07583  ...   \n",
       "6      0.21577      0.02959  0.28839             0.707       0.07583  ...   \n",
       "7      0.21577      0.02959  0.28839             0.707       0.07583  ...   \n",
       "8      0.21577      0.02959  0.28839             0.707       0.07583  ...   \n",
       "9      0.21577      0.02959  0.28839             0.707       0.07583  ...   \n",
       "\n",
       "   Snap_Pct  Type          Income_Level   Income_No  Income_Pct  PA_No  \\\n",
       "0   0.05719  snap  $100,000 to $199,999  7638.30279     0.25258  474.0   \n",
       "1   0.05719  snap  $100,000 to $199,999  7638.30279     0.25258  474.0   \n",
       "2   0.05719  snap  $100,000 to $199,999  7638.30279     0.25258  474.0   \n",
       "3   0.05719  snap  $100,000 to $199,999  7638.30279     0.25258  474.0   \n",
       "4   0.05719  snap  $100,000 to $199,999  7638.30279     0.25258  474.0   \n",
       "5   0.05719  snap    $15,000 to $24,999  1777.72068     0.05878  474.0   \n",
       "6   0.05719  snap    $15,000 to $24,999  1777.72068     0.05878  474.0   \n",
       "7   0.05719  snap    $15,000 to $24,999  1777.72068     0.05878  474.0   \n",
       "8   0.05719  snap    $15,000 to $24,999  1777.72068     0.05878  474.0   \n",
       "9   0.05719  snap    $15,000 to $24,999  1777.72068     0.05878  474.0   \n",
       "\n",
       "    PA_Pct    Race      Race_No Race_Pct  \n",
       "0  0.00838   Asian   8525.95160  0.14727  \n",
       "1  0.00838   Black   1287.05039  0.02223  \n",
       "2  0.00838  Latino   3291.73131  0.05686  \n",
       "3  0.00838   Other   1439.29952  0.02486  \n",
       "4  0.00838   White  43348.60008  0.74878  \n",
       "5  0.00838   Asian   8525.95160  0.14727  \n",
       "6  0.00838   Black   1287.05039  0.02223  \n",
       "7  0.00838  Latino   3291.73131  0.05686  \n",
       "8  0.00838   Other   1439.29952  0.02486  \n",
       "9  0.00838   White  43348.60008  0.74878  \n",
       "\n",
       "[10 rows x 27 columns]"
      ]
     },
     "execution_count": 26,
     "metadata": {},
     "output_type": "execute_result"
    }
   ],
   "source": [
    "print(df.shape)\n",
    "print(df.columns.tolist())\n",
    "df.head(10)"
   ]
  },
  {
   "cell_type": "code",
   "execution_count": 27,
   "metadata": {},
   "outputs": [
    {
     "data": {
      "text/plain": [
       "'\\nmedian_incomes - 2005-2018\\nmonthly_rent - 2009-2018\\narrests - 2000-2019\\nchild_population_by_race_ethnicity - 2005-2018\\nmedian_monthly_rent - 2005-2018\\nhome_ownership - 2005-2018\\ntotal_population - 2005-2018\\nchild_population - 2005-2018\\nuninsured - 2008-2018\\npublic_assistance_by_program_type - 2005-2017\\nunemployment_rate_ - 2005-2018\\nsevere_rent_burden - 2005- 2018\\neducational_attainment - 2006-2018\\novercrowded_rental_housing - 2005-2018\\nsnap_(food_stamps) - 2001-2019\\nhousehold_income - 2005-2018\\npublic_assistance - 2005-2017\\nemployment_population_ratio - 2005-2018\\ntotal_population_by_race_ethnicity - 2009-2018\\n'"
      ]
     },
     "execution_count": 27,
     "metadata": {},
     "output_type": "execute_result"
    }
   ],
   "source": [
    "\"\"\"\n",
    "median_incomes - 2005-2018\n",
    "monthly_rent - 2009-2018\n",
    "arrests - 2000-2019\n",
    "child_population_by_race_ethnicity - 2005-2018\n",
    "median_monthly_rent - 2005-2018\n",
    "home_ownership - 2005-2018\n",
    "total_population - 2005-2018\n",
    "child_population - 2005-2018\n",
    "uninsured - 2008-2018\n",
    "public_assistance_by_program_type - 2005-2017\n",
    "unemployment_rate_ - 2005-2018\n",
    "severe_rent_burden - 2005- 2018\n",
    "educational_attainment - 2006-2018\n",
    "overcrowded_rental_housing - 2005-2018\n",
    "snap_(food_stamps) - 2001-2019\n",
    "household_income - 2005-2018\n",
    "public_assistance - 2005-2017\n",
    "employment_population_ratio - 2005-2018\n",
    "total_population_by_race_ethnicity - 2009-2018\n",
    "\"\"\""
   ]
  },
  {
   "cell_type": "code",
   "execution_count": 28,
   "metadata": {},
   "outputs": [],
   "source": [
    "#df.to_csv('../data.csv')"
   ]
  },
  {
   "cell_type": "code",
   "execution_count": null,
   "metadata": {},
   "outputs": [],
   "source": []
  }
 ],
 "metadata": {
  "kernelspec": {
   "display_name": "Python 3",
   "language": "python",
   "name": "python3"
  },
  "language_info": {
   "codemirror_mode": {
    "name": "ipython",
    "version": 3
   },
   "file_extension": ".py",
   "mimetype": "text/x-python",
   "name": "python",
   "nbconvert_exporter": "python",
   "pygments_lexer": "ipython3",
   "version": "3.6.10"
  }
 },
 "nbformat": 4,
 "nbformat_minor": 4
}
