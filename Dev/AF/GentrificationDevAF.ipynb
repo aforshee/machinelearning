{
 "cells": [
  {
   "cell_type": "code",
   "execution_count": 2,
   "metadata": {},
   "outputs": [],
   "source": [
    "#import dependencies\n",
    "import matplotlib.pyplot as plt\n",
    "import pandas as pd\n",
    "import numpy as np\n",
    "import scipy.stats as stats"
   ]
  },
  {
   "cell_type": "code",
   "execution_count": 23,
   "metadata": {},
   "outputs": [],
   "source": [
    "#load data \n",
    "\n",
    "Arrests = \"Arrests.csv\"\n",
    "Child_Population = \"Child Population.csv\"\n",
    "Educational_Attainment = \"Educational Attainment.csv\"\n",
    "Employment_Population_Ratio = \"Employment Population Ratio.csv\"\n",
    "Median_Incomes = \"Median Incomes.csv\"\n",
    "Overcrowded = \"Overcrowded Rental Housing.csv\"\n",
    "Public_Assistance = \"Public Assistance.csv\"\n",
    "Severe_Rent_Burden = \"Severe Rent Burden.csv\"\n",
    "SNAP = \"SNAP (Food Stamps).csv\"\n",
    "Total_Population = \"Total Population.csv\"\n",
    "Unemployment_Rate = \"Unemployment Rate .csv\"\n",
    "Uninsured = \"Uninsured.csv\"\n",
    "\n",
    "Arrests_df = pd.read_csv(Arrests)\n",
    "Child_Population_df = pd.read_csv(Child_Population, encoding = 'utf-8', dtype = 'unicode')\n",
    "Educational_Attainment_df = pd.read_csv(Educational_Attainment, encoding = 'utf-8', dtype = 'unicode')\n",
    "Employment_Population_Ratio_df = pd.read_csv(Employment_Population_Ratio, encoding = 'utf-8', dtype = 'unicode')\n",
    "Median_Incomes_df = pd.read_csv(Median_Incomes, encoding = 'utf-8', dtype = 'unicode')\n",
    "Overcrowded_df = pd.read_csv(Overcrowded, encoding = 'utf-8', dtype = 'unicode')\n",
    "Public_Assistance_df = pd.read_csv(Public_Assistance, encoding = 'utf-8', dtype = 'unicode')\n",
    "Severe_Rent_Burden_df = pd.read_csv(Severe_Rent_Burden, encoding = 'utf-8', dtype = 'unicode')\n",
    "SNAP_df = pd.read_csv(SNAP, encoding = 'utf-8', dtype = 'unicode')\n",
    "Total_Population_df = pd.read_csv(Total_Population, encoding = 'utf-8', dtype = 'unicode')\n",
    "Unemployment_Rate_df = pd.read_csv(Unemployment_Rate, encoding = 'utf-8', dtype = 'unicode')\n",
    "Uninsured_df = pd.read_csv(Uninsured, encoding = 'utf-8', dtype = 'unicode')"
   ]
  },
  {
   "cell_type": "code",
   "execution_count": 33,
   "metadata": {},
   "outputs": [
    {
     "data": {
      "text/plain": [
       "Location         object\n",
       "Offense Type     object\n",
       "TimeFrame        object\n",
       "DataFormat       object\n",
       "Data            float64\n",
       "Fips             object\n",
       "dtype: object"
      ]
     },
     "execution_count": 33,
     "metadata": {},
     "output_type": "execute_result"
    }
   ],
   "source": [
    "#change timeframe datatype for arrests\n",
    "\n",
    "Arrests_df['TimeFrame'] = Arrests_df['TimeFrame'].apply(str)\n",
    "Arrests_df.dtypes"
   ]
  },
  {
   "cell_type": "code",
   "execution_count": 42,
   "metadata": {},
   "outputs": [],
   "source": [
    "#Merge data by Fips and TimeFrame\n",
    "\n",
    "arrests_and_childpop_df = pd.merge(Arrests_df, Child_Population_df, \n",
    "                       how='inner', on=['Fips', 'TimeFrame'], \n",
    "                       suffixes = ('_Arrests', '_ChildPop'))\n",
    "edattain_and_empratio_df = pd.merge(Educational_Attainment_df, Employment_Population_Ratio_df, \n",
    "                       how='inner', on=['Fips', 'TimeFrame'], \n",
    "                       suffixes = ('_Ed', '_EmpRatio'))\n",
    "income_and_overcrowded_df = pd.merge(Median_Incomes_df, Overcrowded_df, \n",
    "                       how='inner', on=['Fips', 'TimeFrame'], \n",
    "                       suffixes = ('_income', '_overcrowded'))\n",
    "pub_and_srb_df = pd.merge(Public_Assistance_df, Severe_Rent_Burden_df, \n",
    "                       how='inner', on=['Fips', 'TimeFrame'], \n",
    "                       suffixes = ('_pub', '_srb'))\n",
    "snap_and_tpop_df = pd.merge(SNAP_df, Total_Population_df, \n",
    "                       how='inner', on=['Fips', 'TimeFrame'], \n",
    "                       suffixes = ('_snap', '_tpop'))\n",
    "unemp_and_unins_df = pd.merge(Unemployment_Rate_df, Uninsured_df, \n",
    "                       how='inner', on=['Fips', 'TimeFrame'], \n",
    "                       suffixes = ('_unemp', '_unis'))\n",
    "one_df = pd.merge((pd.merge(arrests_and_childpop_df, edattain_and_empratio_df, how='inner', on=['Fips', 'TimeFrame'])), \n",
    "                 income_and_overcrowded_df, how='inner', on=['Fips', 'TimeFrame'])\n",
    "\n",
    "two_df = pd.merge((pd.merge(pub_and_srb_df, snap_and_tpop_df, how='inner', on=['Fips', 'TimeFrame'])), \n",
    "                 unemp_and_unins_df, how='inner', on=['Fips', 'TimeFrame'])\n",
    "\n",
    "final_df = pd.merge(one_df, two_df, \n",
    "                       how='inner', on=['Fips', 'TimeFrame'])"
   ]
  },
  {
   "cell_type": "code",
   "execution_count": 69,
   "metadata": {},
   "outputs": [
    {
     "data": {
      "text/html": [
       "<div>\n",
       "<style scoped>\n",
       "    .dataframe tbody tr th:only-of-type {\n",
       "        vertical-align: middle;\n",
       "    }\n",
       "\n",
       "    .dataframe tbody tr th {\n",
       "        vertical-align: top;\n",
       "    }\n",
       "\n",
       "    .dataframe thead th {\n",
       "        text-align: right;\n",
       "    }\n",
       "</style>\n",
       "<table border=\"1\" class=\"dataframe\">\n",
       "  <thead>\n",
       "    <tr style=\"text-align: right;\">\n",
       "      <th></th>\n",
       "      <th>Fips</th>\n",
       "      <th>Location_Arrests</th>\n",
       "      <th>TimeFrame</th>\n",
       "      <th>Data_Arrests</th>\n",
       "      <th>DataFormat_Arrests</th>\n",
       "      <th>Data_ChildPop</th>\n",
       "      <th>DataFormat_ChildPop</th>\n",
       "      <th>Data_Ed</th>\n",
       "      <th>DataFormat_Ed</th>\n",
       "      <th>Data_EmpRatio</th>\n",
       "      <th>...</th>\n",
       "      <th>Data_pub</th>\n",
       "      <th>DataFormat_pub</th>\n",
       "      <th>Data_srb</th>\n",
       "      <th>DataFormat_srb</th>\n",
       "      <th>Data_snap</th>\n",
       "      <th>DataFormat_snap</th>\n",
       "      <th>Data_unemp</th>\n",
       "      <th>DataFormat_unemp</th>\n",
       "      <th>Data_unis</th>\n",
       "      <th>DataFormat_unis</th>\n",
       "    </tr>\n",
       "  </thead>\n",
       "  <tbody>\n",
       "    <tr>\n",
       "      <td>0</td>\n",
       "      <td>36005</td>\n",
       "      <td>Bronx</td>\n",
       "      <td>2009</td>\n",
       "      <td>94069.0</td>\n",
       "      <td>Number</td>\n",
       "      <td>389291</td>\n",
       "      <td>Number</td>\n",
       "      <td>268410</td>\n",
       "      <td>Number</td>\n",
       "      <td>0.513</td>\n",
       "      <td>...</td>\n",
       "      <td>127938</td>\n",
       "      <td>Number</td>\n",
       "      <td>0.29817</td>\n",
       "      <td>Percent</td>\n",
       "      <td>212610</td>\n",
       "      <td>Number</td>\n",
       "      <td>0.13326</td>\n",
       "      <td>Percent</td>\n",
       "      <td>194943</td>\n",
       "      <td>Number</td>\n",
       "    </tr>\n",
       "    <tr>\n",
       "      <td>1</td>\n",
       "      <td>36005</td>\n",
       "      <td>Bronx</td>\n",
       "      <td>2009</td>\n",
       "      <td>94069.0</td>\n",
       "      <td>Number</td>\n",
       "      <td>389291</td>\n",
       "      <td>Number</td>\n",
       "      <td>268410</td>\n",
       "      <td>Number</td>\n",
       "      <td>0.513</td>\n",
       "      <td>...</td>\n",
       "      <td>127938</td>\n",
       "      <td>Number</td>\n",
       "      <td>0.29817</td>\n",
       "      <td>Percent</td>\n",
       "      <td>212610</td>\n",
       "      <td>Number</td>\n",
       "      <td>0.13326</td>\n",
       "      <td>Percent</td>\n",
       "      <td>214090</td>\n",
       "      <td>Number</td>\n",
       "    </tr>\n",
       "    <tr>\n",
       "      <td>2</td>\n",
       "      <td>36005</td>\n",
       "      <td>Bronx</td>\n",
       "      <td>2009</td>\n",
       "      <td>94069.0</td>\n",
       "      <td>Number</td>\n",
       "      <td>389291</td>\n",
       "      <td>Number</td>\n",
       "      <td>268410</td>\n",
       "      <td>Number</td>\n",
       "      <td>0.513</td>\n",
       "      <td>...</td>\n",
       "      <td>127938</td>\n",
       "      <td>Number</td>\n",
       "      <td>0.29817</td>\n",
       "      <td>Percent</td>\n",
       "      <td>212610</td>\n",
       "      <td>Number</td>\n",
       "      <td>0.13326</td>\n",
       "      <td>Percent</td>\n",
       "      <td>19147</td>\n",
       "      <td>Number</td>\n",
       "    </tr>\n",
       "  </tbody>\n",
       "</table>\n",
       "<p>3 rows × 25 columns</p>\n",
       "</div>"
      ],
      "text/plain": [
       "    Fips Location_Arrests TimeFrame  Data_Arrests DataFormat_Arrests  \\\n",
       "0  36005            Bronx      2009       94069.0             Number   \n",
       "1  36005            Bronx      2009       94069.0             Number   \n",
       "2  36005            Bronx      2009       94069.0             Number   \n",
       "\n",
       "  Data_ChildPop DataFormat_ChildPop Data_Ed DataFormat_Ed Data_EmpRatio  ...  \\\n",
       "0        389291              Number  268410        Number         0.513  ...   \n",
       "1        389291              Number  268410        Number         0.513  ...   \n",
       "2        389291              Number  268410        Number         0.513  ...   \n",
       "\n",
       "  Data_pub DataFormat_pub Data_srb DataFormat_srb Data_snap DataFormat_snap  \\\n",
       "0   127938         Number  0.29817        Percent    212610          Number   \n",
       "1   127938         Number  0.29817        Percent    212610          Number   \n",
       "2   127938         Number  0.29817        Percent    212610          Number   \n",
       "\n",
       "  Data_unemp DataFormat_unemp Data_unis DataFormat_unis  \n",
       "0    0.13326          Percent    194943          Number  \n",
       "1    0.13326          Percent    214090          Number  \n",
       "2    0.13326          Percent     19147          Number  \n",
       "\n",
       "[3 rows x 25 columns]"
      ]
     },
     "execution_count": 69,
     "metadata": {},
     "output_type": "execute_result"
    }
   ],
   "source": [
    "#clean-up and rename columns\n",
    "data_df = final_df[['Fips', \n",
    "                   'Location_Arrests', \n",
    "                   'TimeFrame', \n",
    "                    'Data_Arrests',\n",
    "                    'DataFormat_Arrests',\n",
    "                   'Data_ChildPop',\n",
    "                    'DataFormat_ChildPop',\n",
    "                    'Data_Ed',\n",
    "                    'DataFormat_Ed',\n",
    "                   'Data_EmpRatio',\n",
    "                    'DataFormat_EmpRatio',\n",
    "                   'Data_income',\n",
    "                    'DataFormat_income',\n",
    "                   'Data_overcrowded',\n",
    "                    'DataFormat_overcrowded',\n",
    "                   'Data_pub',\n",
    "                    'DataFormat_pub',\n",
    "                   'Data_srb',\n",
    "                    'DataFormat_srb',\n",
    "                   'Data_snap',\n",
    "                    'DataFormat_snap',\n",
    "                  'Data_unemp',\n",
    "                    'DataFormat_unemp',\n",
    "                  'Data_unis',\n",
    "                   'DataFormat_unis']]\n",
    "data_df.head(3)"
   ]
  },
  {
   "cell_type": "code",
   "execution_count": 70,
   "metadata": {},
   "outputs": [
    {
     "data": {
      "text/plain": [
       "(276480, 25)"
      ]
     },
     "execution_count": 70,
     "metadata": {},
     "output_type": "execute_result"
    }
   ],
   "source": [
    "# check shape of data\n",
    "data_df.shape"
   ]
  },
  {
   "cell_type": "code",
   "execution_count": 72,
   "metadata": {},
   "outputs": [],
   "source": [
    "# write to csv\n",
    "#data_df.to_csv('file_name.csv')"
   ]
  },
  {
   "cell_type": "code",
   "execution_count": 77,
   "metadata": {},
   "outputs": [
    {
     "data": {
      "text/plain": [
       "(138240, 25)"
      ]
     },
     "execution_count": 77,
     "metadata": {},
     "output_type": "execute_result"
    }
   ],
   "source": [
    "#filter data for what is needed for regression\n",
    "percent_only_df = data_df[(data_df['DataFormat_Arrests']=='Number') & \n",
    "                          (data_df['DataFormat_ChildPop']=='Number')]\n",
    "percent_only_df.shape"
   ]
  },
  {
   "cell_type": "code",
   "execution_count": null,
   "metadata": {},
   "outputs": [],
   "source": []
  }
 ],
 "metadata": {
  "kernelspec": {
   "display_name": "Python 3",
   "language": "python",
   "name": "python3"
  },
  "language_info": {
   "codemirror_mode": {
    "name": "ipython",
    "version": 3
   },
   "file_extension": ".py",
   "mimetype": "text/x-python",
   "name": "python",
   "nbconvert_exporter": "python",
   "pygments_lexer": "ipython3",
   "version": "3.7.4"
  }
 },
 "nbformat": 4,
 "nbformat_minor": 2
}
