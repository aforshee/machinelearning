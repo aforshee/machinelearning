{
 "cells": [
  {
   "cell_type": "code",
   "execution_count": 244,
   "metadata": {},
   "outputs": [],
   "source": [
    "# import packages\n",
    "\n",
    "import matplotlib.pyplot as plt\n",
    "import numpy as np\n",
    "import pandas as pd"
   ]
  },
  {
   "cell_type": "markdown",
   "metadata": {},
   "source": [
    "### List of Variables\n",
    "\n",
    "Total Population: Number <br>\n",
    "Child Population: Number <br>\n",
    "Educational Attainment: Number, Percent <br>\n",
    "Employment Population Ratio: Percent <br>\n",
    "Home Ownership: Percent <br>\n",
    "Overcrowded Rental Housing: Percent <br>\n",
    "Median Income: Dollars <br>\n",
    "Median Monthly Rent: Dollars <br>\n",
    "Median Rent Burden: Percent <br>\n",
    "Severe Rent Burden: Percent <br>\n",
    "Public Assistance: Number, Percent <br>\n",
    "Food Stamps (by household): Number, Percent<br>\n",
    "Unemployment Rate: Percent <br>\n",
    "\n",
    "Maintenance Deficiencies: Percent (2011-2017) <br>"
   ]
  },
  {
   "cell_type": "code",
   "execution_count": 245,
   "metadata": {},
   "outputs": [],
   "source": [
    "# read in CSVs\n",
    "\n",
    "total_population_df = pd.read_csv('Data/Total Population.csv')\n",
    "child_population_df = pd.read_csv('Data/Child Population.csv')\n",
    "educational_attainment_df = pd.read_csv('Data/Educational Attainment.csv')\n",
    "employment_population_ratio_df = pd.read_csv('Data/Employment Population Ratio.csv')\n",
    "home_ownership_df = pd.read_csv('Data/Home Ownership.csv')\n",
    "overcrowded_rental_housing_df = pd.read_csv('Data/Overcrowded Rental Housing.csv')\n",
    "maintenance_deficiencies_df = pd.read_csv('Data/Maintenance Deficiencies.csv')\n",
    "household_income_df = pd.read_csv('Data/Household Income.csv')\n",
    "median_income_df = pd.read_csv('Data/Median Incomes.csv')\n",
    "median_monthly_rent_df = pd.read_csv('Data/Median Monthly Rent.csv')\n",
    "median_rent_burden_df = pd.read_csv('Data/Median Rent Burden.csv')\n",
    "severe_rent_burden_df = pd.read_csv('Data/Severe Rent Burden.csv')\n",
    "public_assistance_df = pd.read_csv('Data/Public Assistance.csv')\n",
    "food_stamps_df = pd.read_csv('Data/SNAP (Food Stamps).csv')\n",
    "unemployment_rate_df = pd.read_csv('Data/Unemployment Rate .csv')"
   ]
  },
  {
   "cell_type": "markdown",
   "metadata": {},
   "source": [
    "### Variables"
   ]
  },
  {
   "cell_type": "code",
   "execution_count": 246,
   "metadata": {},
   "outputs": [],
   "source": [
    "# group by location and year\n",
    "total_population = total_population_df.groupby(['Location', 'TimeFrame', 'Fips']).mean()\n",
    "\n",
    "# rename Data column\n",
    "total_population = total_population.rename(columns={\"Data\": \"Total_Pop\"})"
   ]
  },
  {
   "cell_type": "code",
   "execution_count": 247,
   "metadata": {},
   "outputs": [],
   "source": [
    "# group by location and year\n",
    "child_population = child_population_df.groupby(['Location', 'TimeFrame', 'Fips']).mean()\n",
    "\n",
    "# rename Data column\n",
    "child_population = child_population.rename(columns={\"Data\": \"Child_Pop\"})"
   ]
  },
  {
   "cell_type": "code",
   "execution_count": 248,
   "metadata": {},
   "outputs": [],
   "source": [
    "# Percent and Number data formats\n",
    "educational_attainment_df_p = educational_attainment_df[educational_attainment_df['DataFormat'] == 'Percent']\n",
    "educational_attainment_df_n = educational_attainment_df[educational_attainment_df['DataFormat'] == 'Number']\n",
    "\n",
    "# group by location and year\n",
    "educational_attainment_p = educational_attainment_df_p.groupby(['Location', 'TimeFrame', 'Fips']).mean()\n",
    "educational_attainment_n = educational_attainment_df_n.groupby(['Location', 'TimeFrame', 'Fips']).mean()\n",
    "\n",
    "\n",
    "# rename Data columns\n",
    "educational_attainment_p = educational_attainment_p.rename(columns={\"Data\": \"EduAttainment_p\"})\n",
    "educational_attainment_n = educational_attainment_n.rename(columns={\"Data\": \"EduAttainment_n\"})"
   ]
  },
  {
   "cell_type": "code",
   "execution_count": 249,
   "metadata": {},
   "outputs": [],
   "source": [
    "# group by location and year\n",
    "employment_population_ratio = employment_population_ratio_df.groupby(['Location', 'TimeFrame', 'Fips']).mean()\n",
    "\n",
    "# rename Data column\n",
    "employment_population_ratio = employment_population_ratio.rename(columns={\"Data\": \"EmploymentPopRatio\"})"
   ]
  },
  {
   "cell_type": "code",
   "execution_count": 250,
   "metadata": {},
   "outputs": [],
   "source": [
    "# group by location and year\n",
    "home_ownership = home_ownership_df.groupby(['Location', 'TimeFrame', 'Fips']).mean()\n",
    "\n",
    "# rename Data column\n",
    "home_ownership = home_ownership.rename(columns={\"Data\": \"HomeOwnership\"})"
   ]
  },
  {
   "cell_type": "code",
   "execution_count": 251,
   "metadata": {},
   "outputs": [],
   "source": [
    "# group by location and year\n",
    "overcrowded_rental_housing = overcrowded_rental_housing_df.groupby(['Location', 'TimeFrame', 'Fips']).mean()\n",
    "\n",
    "# rename Data column\n",
    "overcrowded_rental_housing = overcrowded_rental_housing.rename(columns={\"Data\": \"OvercrowdedRental\"})"
   ]
  },
  {
   "cell_type": "code",
   "execution_count": 252,
   "metadata": {},
   "outputs": [],
   "source": [
    "# group by location and year\n",
    "maintenance_deficiencies = maintenance_deficiencies_df.groupby(['Location', 'TimeFrame', 'Fips']).mean()\n",
    "\n",
    "# rename Data column\n",
    "maintenance_deficiencies = maintenance_deficiencies.rename(columns={\"Data\": \"MaintenanceDef\"})"
   ]
  },
  {
   "cell_type": "code",
   "execution_count": 253,
   "metadata": {},
   "outputs": [],
   "source": [
    "# Percent and Number data formats\n",
    "household_income_df_p = household_income_df[household_income_df['DataFormat'] == 'Percent']\n",
    "household_income_df_n = household_income_df[household_income_df['DataFormat'] == 'Number']\n",
    "\n",
    "# group by location and year\n",
    "household_income_df_p = household_income_df_p.groupby(['Location', 'TimeFrame', 'Fips']).mean()\n",
    "household_income_df_n = household_income_df_n.groupby(['Location', 'TimeFrame', 'Fips']).mean()\n",
    "\n",
    "# rename Data columns\n",
    "household_income_df_p = household_income_df_p.rename(columns={\"Data\": \"HouseholdIncome_p\"})\n",
    "household_income_df_n = household_income_df_n.rename(columns={\"Data\": \"HouseholdIncome_n\"})"
   ]
  },
  {
   "cell_type": "code",
   "execution_count": 254,
   "metadata": {
    "scrolled": true
   },
   "outputs": [],
   "source": [
    "# group by location and year\n",
    "median_income = median_income_df.groupby(['Location', 'TimeFrame', 'Fips']).mean()\n",
    "\n",
    "# rename Data column\n",
    "median_income = median_income.rename(columns={\"Data\": \"MedianIncome\"})"
   ]
  },
  {
   "cell_type": "code",
   "execution_count": 255,
   "metadata": {},
   "outputs": [],
   "source": [
    "# group by location and year\n",
    "median_monthly_rent = median_monthly_rent_df.groupby(['Location', 'TimeFrame', 'Fips']).mean()\n",
    "\n",
    "# rename Data column\n",
    "median_monthly_rent = median_monthly_rent.rename(columns={\"Data\": \"MedianRent\"})"
   ]
  },
  {
   "cell_type": "code",
   "execution_count": 256,
   "metadata": {},
   "outputs": [],
   "source": [
    "# group by location and year\n",
    "median_rent_burden = median_rent_burden_df.groupby(['Location', 'TimeFrame', 'Fips']).mean()\n",
    "\n",
    "# rename Data column\n",
    "median_rent_burden = median_rent_burden.rename(columns={\"Data\": \"MedianRentBurden\"})"
   ]
  },
  {
   "cell_type": "code",
   "execution_count": 257,
   "metadata": {},
   "outputs": [],
   "source": [
    "# group by location and year\n",
    "severe_rent_burden = severe_rent_burden_df.groupby(['Location', 'TimeFrame', 'Fips']).mean()\n",
    "\n",
    "# rename Data column\n",
    "severe_rent_burden = severe_rent_burden.rename(columns={\"Data\": \"SevereRentBurden\"})"
   ]
  },
  {
   "cell_type": "code",
   "execution_count": 258,
   "metadata": {},
   "outputs": [],
   "source": [
    "# Percent and Number data formats\n",
    "public_assistance_df_p = public_assistance_df[public_assistance_df['DataFormat'] == 'Percent']\n",
    "public_assistance_df_n = public_assistance_df[public_assistance_df['DataFormat'] == 'Number']\n",
    "\n",
    "# group by location and year\n",
    "public_assistance_df_p = public_assistance_df_p.groupby(['Location', 'TimeFrame', 'Fips']).mean()\n",
    "public_assistance_df_n = public_assistance_df_n.groupby(['Location', 'TimeFrame', 'Fips']).mean()\n",
    "\n",
    "# rename Data columns\n",
    "public_assistance_df_p = public_assistance_df_p.rename(columns={\"Data\": \"PublicAssistance_p\"})\n",
    "public_assistance_df_n = public_assistance_df_n.rename(columns={\"Data\": \"PublicAssistance_n\"})"
   ]
  },
  {
   "cell_type": "code",
   "execution_count": 259,
   "metadata": {},
   "outputs": [],
   "source": [
    "# filter: food stamps for Households\n",
    "food_stamps_df = food_stamps_df[food_stamps_df['Recipient'] == 'Households']\n",
    "\n",
    "food_stamps_df_p = food_stamps_df[food_stamps_df['DataFormat'] == 'Percent']\n",
    "food_stamps_df_n = food_stamps_df[food_stamps_df['DataFormat'] == 'Number']\n",
    "\n",
    "# group by location and year\n",
    "food_stamps_df_p = food_stamps_df_p.groupby(['Location', 'TimeFrame', 'Fips']).mean()\n",
    "food_stamps_df_n = food_stamps_df_n.groupby(['Location', 'TimeFrame', 'Fips']).mean()\n",
    "\n",
    "# rename Data columns\n",
    "food_stamps_df_p = food_stamps_df_p.rename(columns={\"Data\": \"FoodStamps_p\"})\n",
    "food_stamps_df_n = food_stamps_df_n.rename(columns={\"Data\": \"FoodStamps_n\"})"
   ]
  },
  {
   "cell_type": "code",
   "execution_count": 260,
   "metadata": {},
   "outputs": [],
   "source": [
    "unemployment_rate = unemployment_rate_df.groupby(['Location', 'TimeFrame', 'Fips']).mean()\n",
    "\n",
    "# rename Data column\n",
    "unemployment_rate = unemployment_rate.rename(columns={\"Data\": \"UnemploymentRate\"})"
   ]
  },
  {
   "cell_type": "code",
   "execution_count": 261,
   "metadata": {},
   "outputs": [],
   "source": [
    "# merge dfs\n",
    "# total_population data needs to be cleaned\n",
    "\n",
    "dfs = [child_population, \n",
    "        educational_attainment_p, educational_attainment_n,\n",
    "       employment_population_ratio,\n",
    "      home_ownership,\n",
    "      overcrowded_rental_housing,\n",
    "      maintenance_deficiencies,\n",
    "      household_income_df_p, household_income_df_n, median_monthly_rent,\n",
    "       median_income, median_rent_burden, severe_rent_burden,\n",
    "      public_assistance_df_p, public_assistance_df_n,\n",
    "      food_stamps_df_p, food_stamps_df_n,\n",
    "      unemployment_rate]\n",
    "\n",
    "df = pd.concat(dfs, axis = 1, sort = False).reset_index()"
   ]
  },
  {
   "cell_type": "code",
   "execution_count": 262,
   "metadata": {},
   "outputs": [],
   "source": [
    "# write csv\n",
    "\n",
    "df.to_csv('Data/clean_data.csv')"
   ]
  },
  {
   "cell_type": "code",
   "execution_count": null,
   "metadata": {},
   "outputs": [],
   "source": []
  }
 ],
 "metadata": {
  "kernelspec": {
   "display_name": "Python 3",
   "language": "python",
   "name": "python3"
  },
  "language_info": {
   "codemirror_mode": {
    "name": "ipython",
    "version": 3
   },
   "file_extension": ".py",
   "mimetype": "text/x-python",
   "name": "python",
   "nbconvert_exporter": "python",
   "pygments_lexer": "ipython3",
   "version": "3.6.10"
  }
 },
 "nbformat": 4,
 "nbformat_minor": 4
}
